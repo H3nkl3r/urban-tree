{
 "cells": [
  {
   "cell_type": "markdown",
   "metadata": {},
   "source": [
    "## Model Training"
   ]
  },
  {
   "cell_type": "markdown",
   "metadata": {},
   "source": [
    "- Model training (e.g. transfer learning) from either default Deepforest/NEON model or any given one."
   ]
  },
  {
   "cell_type": "code",
   "execution_count": 1,
   "metadata": {},
   "outputs": [
    {
     "name": "stdout",
     "output_type": "stream",
     "text": [
      "Epoch 0:  21%|██        | 348/1695 [02:52<11:08,  2.02it/s, loss=0.554, v_num=0] "
     ]
    }
   ],
   "source": [
    "from urbantree.setting import Setting\n",
    "from urbantree.deepforest.detection import train_model\n",
    "\n",
    "#SETTING = \"settings/by_dop80c_1312/deepforest_r1/setting.yaml\"\n",
    "#SETTING = \"settings/by_dop80c_1312/deepforest_r2/setting.yaml\"\n",
    "SETTING = \"settings/by_dop80c_1312/deepforest_r3/setting.yaml\"\n",
    "\n",
    "#SETTING = \"settings/opendata_luftbild_dop60_1312/deepforest_r1/setting.yaml\"\n",
    "#SETTING = \"settings/opendata_luftbild_dop60_1312/deepforest_r2/setting.yaml\"\n",
    "#SETTING = \"settings/opendata_luftbild_dop60_1312/deepforest_r3/setting.yaml\"\n",
    "\n",
    "setting = Setting.load_deepforest_setting(SETTING)\n",
    "\n",
    "train_model(**setting, save_top_k=10)"
   ]
  }
 ],
 "metadata": {
  "interpreter": {
   "hash": "298fd235505dd587fa858b65a6a5c414ce4ecf48ebabbc315c3f2a765b786434"
  },
  "kernelspec": {
   "display_name": "Python 3.9.9 64-bit ('deepforest': conda)",
   "language": "python",
   "name": "python3"
  },
  "language_info": {
   "codemirror_mode": {
    "name": "ipython",
    "version": 3
   },
   "file_extension": ".py",
   "mimetype": "text/x-python",
   "name": "python",
   "nbconvert_exporter": "python",
   "pygments_lexer": "ipython3",
   "version": "3.9.9"
  },
  "orig_nbformat": 4
 },
 "nbformat": 4,
 "nbformat_minor": 2
}
