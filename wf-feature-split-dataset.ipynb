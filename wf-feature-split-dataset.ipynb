{
 "cells": [
  {
   "cell_type": "markdown",
   "id": "56802d9f",
   "metadata": {},
   "source": [
    "### Dataset splitting according to pixel features\n",
    "\n",
    "Seelect training dataset from the whole dataset."
   ]
  },
  {
   "cell_type": "markdown",
   "id": "9894d707",
   "metadata": {},
   "source": [
    "- Split and extract training dataset according to pixel features such as color, texture and entropy.\n",
    "- A copy of selected training dataset will be made. \n",
    "- A summary of the splitting result is stored as CSV file with columns: ['img_filepath', 'img_cluster', 'train']"
   ]
  },
  {
   "cell_type": "code",
   "execution_count": 3,
   "id": "9cc96e90",
   "metadata": {},
   "outputs": [
    {
     "name": "stdout",
     "output_type": "stream",
     "text": [
      "[########################################] | 100% Completed | 53.7s\n",
      "split summary: interim/opendata_luftbild_dop60_1312/deepforest_r1/meta/split.csv\n",
      "Training dataset is copied to interim/opendata_luftbild_dop60_1312/deepforest_r1/train\n"
     ]
    }
   ],
   "source": [
    "from urbantree.setting import Setting\n",
    "from urbantree.detectree.preprocessing import dataset_split_feature_cluster\n",
    "\n",
    "#SETTING = \"settings/by_dop80c_1312/deepforest_r1/setting.yaml\"\n",
    "SETTING = \"settings/opendata_luftbild_dop60_1312/deepforest_r1/setting.yaml\"\n",
    "\n",
    "setting = Setting.load_detectree_setting(SETTING)\n",
    "\n",
    "setting['dataset_split_nr_clusters'] = 2\n",
    "setting['dataset_split_nr_pca_comp'] = 3\n",
    "setting['dataset_split_max_nodata_threshold'] = 0.3\n",
    "\n",
    "dataset_split_feature_cluster(**setting)"
   ]
  }
 ],
 "metadata": {
  "interpreter": {
   "hash": "d17c320a108ed353692a9d869777d22c4cfc8e217512b3979b490c9a0e17a049"
  },
  "kernelspec": {
   "display_name": "Python 3.9.6 64-bit",
   "name": "python3"
  },
  "language_info": {
   "codemirror_mode": {
    "name": "ipython",
    "version": 3
   },
   "file_extension": ".py",
   "mimetype": "text/x-python",
   "name": "python",
   "nbconvert_exporter": "python",
   "pygments_lexer": "ipython3",
   "version": "3.9.6"
  }
 },
 "nbformat": 4,
 "nbformat_minor": 5
}
