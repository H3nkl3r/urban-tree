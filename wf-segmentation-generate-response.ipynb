{
 "cells": [
  {
   "cell_type": "markdown",
   "metadata": {},
   "source": [
    "## Generate response of training dataset"
   ]
  },
  {
   "cell_type": "markdown",
   "metadata": {},
   "source": [
    "- input: result of `labelme_json_to_dataset` with labelme annotation in json format. Trees are annotated with circle geometry. \n",
    "- output: images in geotiff (1 band, 0 as background and 255 as tree pixels)"
   ]
  },
  {
   "cell_type": "code",
   "execution_count": null,
   "metadata": {},
   "outputs": [],
   "source": [
    "from urbantree.detectree.segmentation import generate_response\n",
    "from urbantree.setting import Setting\n",
    "\n",
    "#SETTING = \"settings/by_dop80c_1312/detectree_r1/setting.yaml\"\n",
    "SETTING = \"settings/opendata_luftbild_dop60_1312/detectree_r1/setting.yaml\"\n",
    "\n",
    "setting = Setting.load_detectree_setting(SETTING)\n",
    "\n",
    "generate_response(**setting)"
   ]
  }
 ],
 "metadata": {
  "interpreter": {
   "hash": "d17c320a108ed353692a9d869777d22c4cfc8e217512b3979b490c9a0e17a049"
  },
  "kernelspec": {
   "display_name": "Python 3 (ipykernel)",
   "language": "python",
   "name": "python3"
  },
  "language_info": {
   "codemirror_mode": {
    "name": "ipython",
    "version": 3
   },
   "file_extension": ".py",
   "mimetype": "text/x-python",
   "name": "python",
   "nbconvert_exporter": "python",
   "pygments_lexer": "ipython3",
   "version": "3.9.6"
  }
 },
 "nbformat": 4,
 "nbformat_minor": 2
}
