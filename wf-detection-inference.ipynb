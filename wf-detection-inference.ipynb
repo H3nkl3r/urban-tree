{
 "cells": [
  {
   "cell_type": "markdown",
   "id": "b38199b1",
   "metadata": {},
   "source": [
    "### Deep learning inference\n",
    "\n",
    "- Detect tree objects from dataset"
   ]
  },
  {
   "cell_type": "code",
   "execution_count": null,
   "id": "1848ecc8",
   "metadata": {},
   "outputs": [],
   "source": [
    "from urbantree.setting import Setting\n",
    "\n",
    "#SETTING = \"settings/by_dop80c_1312/deepforest_r1/setting.yaml\"\n",
    "#SETTING = \"settings/by_dop80c_1312/deepforest_r2/setting.yaml\"\n",
    "#SETTING = \"settings/by_dop80c_1312/deepforest_r3/setting.yaml\"\n",
    "#SETTING = \"settings/opendata_luftbild_dop60_1312/deepforest_r1/setting.yaml\"\n",
    "#SETTING = \"settings/opendata_luftbild_dop60_1312/deepforest_r2/setting.yaml\"\n",
    "SETTING = \"settings/opendata_luftbild_dop60_1312/deepforest_r3/setting.yaml\"\n",
    "\n",
    "setting = Setting.load_deepforest_setting(SETTING)\n",
    "setting['model_inference_config']"
   ]
  },
  {
   "cell_type": "markdown",
   "id": "e1465225",
   "metadata": {},
   "source": [
    "- detect tree objects from dataset and the resulting bounding boxes DataFrame are saved in pickle objects.\n",
    "- The object detection can be performed on different patch sizes and\n",
    "  no extra nms is run on aggregated results."
   ]
  },
  {
   "cell_type": "code",
   "execution_count": null,
   "id": "3969980b",
   "metadata": {},
   "outputs": [],
   "source": [
    "from urbantree.deepforest.detection import infer_images\n",
    "\n",
    "infer_images(**setting)"
   ]
  },
  {
   "cell_type": "markdown",
   "id": "9f5e4502",
   "metadata": {},
   "source": [
    "- Render tree canopy raster images according to the resulting bounding boxes DataFrame saved in pickle objects."
   ]
  },
  {
   "cell_type": "code",
   "execution_count": null,
   "id": "73b64c77",
   "metadata": {},
   "outputs": [],
   "source": [
    "from urbantree.deepforest.detection import postprocess_render_images\n",
    "\n",
    "dataset_img_pattern=\"*.tiff\"\n",
    "\n",
    "postprocess_render_images(**setting,\n",
    "                          dataset_img_pattern=dataset_img_pattern)"
   ]
  },
  {
   "cell_type": "markdown",
   "id": "5fb4f5ec",
   "metadata": {},
   "source": [
    "- calculate difference among two datasets"
   ]
  },
  {
   "cell_type": "code",
   "execution_count": null,
   "id": "7423ed7a",
   "metadata": {},
   "outputs": [],
   "source": [
    "from urbantree.deepforest.detection import calc_diff\n",
    "from urbantree.deepforest.detection import create_bbox_shapefile\n",
    "\n",
    "# tune inference parameters to increase quality\n",
    "diff_from_inference_param = {\n",
    "  'confident_min_bbox_size': 20,\n",
    "  'confident_min_score': 0.9,\n",
    "  'morphology_factor': 1,\n",
    "  'patch': [\n",
    "    {'patch_size': 1200,\n",
    "    'patch_overlap': 0.3,\n",
    "    'iou_threshold': 0.8,\n",
    "    'score_thresh': 0.95},\n",
    "    {'patch_size': 800,\n",
    "    'patch_overlap': 0.3,\n",
    "    'iou_threshold': 0.8,\n",
    "    'score_thresh': 0.9},\n",
    "    {'patch_size': 200,\n",
    "    'patch_overlap': 0.2,\n",
    "    'iou_threshold': 0.7,\n",
    "    'score_thresh': 0.8},\n",
    "    {'patch_size': 96,\n",
    "    'patch_overlap': 0.18,\n",
    "    'iou_threshold': 0.6,\n",
    "    'score_thresh': 0.8}]}\n",
    "diff_to_inference_param = {\n",
    "  'confident_min_bbox_size': 30,\n",
    "  'confident_min_score': 0.8,\n",
    "  'morphology_factor': 3,\n",
    "  'patch': [\n",
    "    {'patch_size': 1200,\n",
    "    'patch_overlap': 0.3,\n",
    "    'iou_threshold': 0.8,\n",
    "    'score_thresh': 0.2},\n",
    "    {'patch_size': 800,\n",
    "    'patch_overlap': 0.3,\n",
    "    'iou_threshold': 0.8,\n",
    "    'score_thresh': 0.1},\n",
    "    {'patch_size': 200,\n",
    "    'patch_overlap': 0.2,\n",
    "    'iou_threshold': 0.7,\n",
    "    'score_thresh': 0.01},\n",
    "    {'patch_size': 96,\n",
    "    'patch_overlap': 0.18,\n",
    "    'iou_threshold': 0.6,\n",
    "    'score_thresh': 0.01}]}\n",
    "\n",
    "calc_diff(diff_from_setting_path=\"settings/opendata_luftbild_dop60_1312/deepforest_r3/setting.yaml\",\n",
    "          diff_to_setting_path=\"settings/by_dop80c_1312/deepforest_r2/setting.yaml\",\n",
    "          aggregate_iou_threshold=0.4,\n",
    "          diff_iou_threshold=0.08,\n",
    "          diff_cover_threshold=0.1,\n",
    "          diff_from_inference_param=diff_from_inference_param,\n",
    "          diff_to_inference_param=diff_to_inference_param,\n",
    "          output_bbox_dir='temp/diff/b',\n",
    "          output_debug_img_dir='temp/diff/debug',\n",
    "          concurrency=11) \n",
    "\n",
    "create_bbox_shapefile(src_img_dir='aerial_images_resampled/opendata_luftbild_dop60_1312',\n",
    "                    src_bbox_diff='temp/diff/b/diff',\n",
    "                    output_shp_path='temp/diff/diff.shp',\n",
    "                    size_min_threshold=200, \n",
    "                    iou_threshold=0.2)"
   ]
  },
  {
   "cell_type": "code",
   "execution_count": null,
   "id": "ca3da448",
   "metadata": {},
   "outputs": [],
   "source": [
    "from urbantree.setting import Setting\n",
    "from urbantree.deepforest.detection import create_bbox_shapefile\n",
    "\n",
    "setting = Setting.load_deepforest_setting(\"settings/opendata_luftbild_dop60_1312/deepforest_r3/setting.yaml\")\n",
    "create_bbox_shapefile(src_img_dir='aerial_images_resampled/opendata_luftbild_dop60_1312',\n",
    "                    src_bbox_diff='interim/opendata_luftbild_dop60_1312/deepforest_r3/inference/b',\n",
    "                    output_shp_path='temp/2017.shp',\n",
    "                    model_inference_config=setting['model_inference_config'],\n",
    "                    size_min_threshold=200,\n",
    "                    iou_threshold=0.2,\n",
    "                    geometry_only=False)"
   ]
  },
  {
   "cell_type": "markdown",
   "id": "6daa1adc",
   "metadata": {},
   "source": [
    "# generate heatmap of tree density"
   ]
  },
  {
   "cell_type": "code",
   "execution_count": 3,
   "id": "2a90cbdf",
   "metadata": {},
   "outputs": [],
   "source": [
    "import json\n",
    "import geopandas as gpd\n",
    "import pandas as pd\n",
    "from tqdm import tqdm\n",
    "import numpy as np\n",
    "from urbantree.utils import geerate_tile_def_from_feature\n",
    "\n",
    "TREE_DATA = 'temp/2017.shp'\n",
    "BOUNDARY = 'contrib/munich/munich.boundary.geojson'\n",
    "SCALE = 0.98\n",
    "OUTPUT_PNG = 'temp/diff/heatmap'\n",
    "OUTPUT_NPY = 'temp/diff/heatmap_data'\n",
    "\n",
    "# shrunk boundary to avoid edge cases\n",
    "b = gpd.read_file(BOUNDARY)\n",
    "b.geometry = b.geometry.scale(xfact=SCALE, yfact=SCALE)\n",
    "boundary = json.loads(b.geometry.to_json())"
   ]
  },
  {
   "cell_type": "code",
   "execution_count": 2,
   "id": "581acbdd",
   "metadata": {},
   "outputs": [
    {
     "name": "stdout",
     "output_type": "stream",
     "text": [
      "794853 trees loaded\n"
     ]
    },
    {
     "data": {
      "text/html": [
       "<div>\n",
       "<style scoped>\n",
       "    .dataframe tbody tr th:only-of-type {\n",
       "        vertical-align: middle;\n",
       "    }\n",
       "\n",
       "    .dataframe tbody tr th {\n",
       "        vertical-align: top;\n",
       "    }\n",
       "\n",
       "    .dataframe thead th {\n",
       "        text-align: right;\n",
       "    }\n",
       "</style>\n",
       "<table border=\"1\" class=\"dataframe\">\n",
       "  <thead>\n",
       "    <tr style=\"text-align: right;\">\n",
       "      <th></th>\n",
       "      <th>xmin</th>\n",
       "      <th>ymin</th>\n",
       "      <th>xmax</th>\n",
       "      <th>ymax</th>\n",
       "      <th>label</th>\n",
       "      <th>score</th>\n",
       "      <th>patch_size</th>\n",
       "      <th>local_xmin</th>\n",
       "      <th>local_ymin</th>\n",
       "      <th>local_xmax</th>\n",
       "      <th>local_ymax</th>\n",
       "      <th>geometry</th>\n",
       "    </tr>\n",
       "  </thead>\n",
       "  <tbody>\n",
       "    <tr>\n",
       "      <th>0</th>\n",
       "      <td>1.296352e+06</td>\n",
       "      <td>6.123523e+06</td>\n",
       "      <td>1.296367e+06</td>\n",
       "      <td>6.123538e+06</td>\n",
       "      <td>Tree</td>\n",
       "      <td>1.0</td>\n",
       "      <td>200</td>\n",
       "      <td>757.0</td>\n",
       "      <td>1226.0</td>\n",
       "      <td>781.0</td>\n",
       "      <td>1250.0</td>\n",
       "      <td>POLYGON ((1296366.625 6123523.210, 1296352.293...</td>\n",
       "    </tr>\n",
       "  </tbody>\n",
       "</table>\n",
       "</div>"
      ],
      "text/plain": [
       "           xmin          ymin          xmax          ymax label  score  \\\n",
       "0  1.296352e+06  6.123523e+06  1.296367e+06  6.123538e+06  Tree    1.0   \n",
       "\n",
       "   patch_size  local_xmin  local_ymin  local_xmax  local_ymax  \\\n",
       "0         200       757.0      1226.0       781.0      1250.0   \n",
       "\n",
       "                                            geometry  \n",
       "0  POLYGON ((1296366.625 6123523.210, 1296352.293...  "
      ]
     },
     "execution_count": 2,
     "metadata": {},
     "output_type": "execute_result"
    }
   ],
   "source": [
    "# load tree data\n",
    "trees = gpd.read_file(TREE_DATA).to_crs('EPSG:3857')\n",
    "print(\"{n} trees loaded\".format(n=len(trees)))\n",
    "trees.head(n=1)"
   ]
  },
  {
   "cell_type": "code",
   "execution_count": 3,
   "id": "6d10c1ba",
   "metadata": {},
   "outputs": [
    {
     "name": "stderr",
     "output_type": "stream",
     "text": [
      "100%|██████████| 528/528 [15:07:39<00:00, 103.14s/it]  \n"
     ]
    }
   ],
   "source": [
    "from pathlib import Path\n",
    "import numpy as np\n",
    "import shapely\n",
    "from tqdm import tqdm\n",
    "\n",
    "# TODO: make faster!\n",
    "\n",
    "NEIGHBORHOOD = 500 # meter \n",
    "SIZE = 256 # px\n",
    "ZOOM = range(15, 16)\n",
    "CONTINUE = True\n",
    "\n",
    "# calculate and store density\n",
    "def calc_density(x, y, z, *bbox, continue_mode=True):\n",
    "  # output png path\n",
    "  dest = (Path(OUTPUT_NPY) / str(z) / str(x)).joinpath(str(y) + \".npy\")\n",
    "  if continue_mode and dest.exists():\n",
    "    return\n",
    "  bboxes = []\n",
    "  for iy in range(SIZE):\n",
    "    ymin = bbox[3] - (iy+1)*(bbox[3]-bbox[1])/SIZE\n",
    "    ymax = bbox[3] -    iy *(bbox[3]-bbox[1])/SIZE\n",
    "    if ymax-ymin < NEIGHBORHOOD:\n",
    "      ext = 0.5*(NEIGHBORHOOD-(ymax-ymin))\n",
    "      ymax = ymax + int(ext)\n",
    "      ymin = ymin - int(ext)\n",
    "    for ix in range(SIZE):\n",
    "      xmin = bbox[0] +    ix *(bbox[2]-bbox[0])/SIZE \n",
    "      xmax = bbox[0] + (ix+1)*(bbox[2]-bbox[0])/SIZE\n",
    "      if xmax-xmin < NEIGHBORHOOD:\n",
    "        ext = 0.5*(NEIGHBORHOOD-(xmax-xmin))\n",
    "        xmax = xmax + ext\n",
    "        xmin = xmin - ext\n",
    "      tile_area = (xmax-xmin)*(ymax-ymin)\n",
    "      bboxes.append([ix, iy, tile_area,\n",
    "                     shapely.geometry.box(xmin, ymin, xmax, ymax)])    \n",
    "  bboxes = pd.DataFrame(bboxes, columns=['ix','iy','tile_area','geometry'])\n",
    "  bboxes = gpd.GeoDataFrame(bboxes, geometry='geometry', crs=3857)\n",
    "  # find tree ratio for each bbox (PIXEL)\n",
    "  within = gpd.sjoin(trees, bboxes, predicate='within')\n",
    "  if len(within):\n",
    "    within['tree_ratio'] = (within.xmax-within.xmin)*(within.ymax-within.ymin)/within.tile_area\n",
    "    within = within.groupby(['iy','ix']).apply(lambda x: x.tree_ratio.sum())\n",
    "    within = within.reset_index(name='tree_ratio')\n",
    "  # save \n",
    "  array = np.zeros([SIZE, SIZE, 1], dtype=np.float32)\n",
    "  for _, row in within.iterrows():\n",
    "    array[int(row.iy),int(row.ix)] = row.tree_ratio\n",
    "  dest.parent.mkdir(parents=True,exist_ok=True)\n",
    "  np.save(file=dest, arr=array)\n",
    "\n",
    "# covering tile coordinates\n",
    "tiles = geerate_tile_def_from_feature(boundary['features'], list(map(lambda x: str(x), ZOOM)))\n",
    "for [x, y, z, *bbox] in tqdm(list(tiles)):\n",
    "  calc_density(x, y, z, *bbox, continue_mode=CONTINUE)\n"
   ]
  },
  {
   "cell_type": "code",
   "execution_count": 39,
   "id": "a9f68ffe",
   "metadata": {},
   "outputs": [],
   "source": [
    "from PIL import Image\n",
    "from matplotlib import cm\n",
    "\n",
    "#COLORMAP = cm.get_cmap('RdYlGn')\n",
    "COLORMAP = cm.get_cmap('YlGn', 12)\n",
    "\n",
    "for npy in Path(OUTPUT_NPY).rglob(\"*.npy\"):\n",
    "  src = np.load(npy)\n",
    "  out = Path(OUTPUT_PNG) / npy.parent.parent.name / npy.parent.name / (npy.stem + \".png\")\n",
    "  dest = np.zeros([src.shape[0], src.shape[1], 4], dtype=np.uint8)\n",
    "  for x,y,z in [(x, y,z) for x, y,z in np.ndindex(src.shape)]:\n",
    "    color = (np.array(COLORMAP(src[x,y,z].item())[:4]) * 255).astype('uint8')\n",
    "    dest[x,y] = color\n",
    "  im = Image.fromarray(dest)\n",
    "  out.parent.mkdir(parents=True,exist_ok=True)\n",
    "  im.save(out)\n"
   ]
  },
  {
   "cell_type": "code",
   "execution_count": null,
   "id": "fd1f0738",
   "metadata": {},
   "outputs": [],
   "source": []
  }
 ],
 "metadata": {
  "interpreter": {
   "hash": "d17c320a108ed353692a9d869777d22c4cfc8e217512b3979b490c9a0e17a049"
  },
  "kernelspec": {
   "display_name": "Python 3.9.6 64-bit",
   "name": "python3"
  },
  "language_info": {
   "codemirror_mode": {
    "name": "ipython",
    "version": 3
   },
   "file_extension": ".py",
   "mimetype": "text/x-python",
   "name": "python",
   "nbconvert_exporter": "python",
   "pygments_lexer": "ipython3",
   "version": "3.9.9"
  }
 },
 "nbformat": 4,
 "nbformat_minor": 5
}
