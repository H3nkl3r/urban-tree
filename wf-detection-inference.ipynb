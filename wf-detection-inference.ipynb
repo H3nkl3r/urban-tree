{
 "cells": [
  {
   "cell_type": "markdown",
   "id": "b38199b1",
   "metadata": {},
   "source": [
    "### Deep learning inference\n",
    "\n",
    "- Detect tree objects from dataset"
   ]
  },
  {
   "cell_type": "code",
   "execution_count": null,
   "id": "1848ecc8",
   "metadata": {},
   "outputs": [],
   "source": [
    "from urbantree.setting import Setting\n",
    "\n",
    "#SETTING = \"settings/by_dop80c_1312/deepforest_r1/setting.yaml\"\n",
    "#SETTING = \"settings/by_dop80c_1312/deepforest_r2/setting.yaml\"\n",
    "SETTING = \"settings/by_dop80c_1312/deepforest_r3/setting.yaml\"\n",
    "#SETTING = \"settings/opendata_luftbild_dop60_1312/deepforest_r1/setting.yaml\"\n",
    "#SETTING = \"settings/opendata_luftbild_dop60_1312/deepforest_r2/setting.yaml\"\n",
    "#SETTING = \"settings/opendata_luftbild_dop60_1312/deepforest_r3/setting.yaml\"\n",
    "\n",
    "setting = Setting.load_deepforest_setting(SETTING)\n",
    "setting['model_inference_config']"
   ]
  },
  {
   "cell_type": "markdown",
   "id": "e1465225",
   "metadata": {},
   "source": [
    "- detect tree objects from dataset and the resulting bounding boxes DataFrame are saved in pickle objects.\n",
    "- The object detection can be performed on different patch sizes and\n",
    "  no extra nms is run on aggregated results."
   ]
  },
  {
   "cell_type": "code",
   "execution_count": null,
   "id": "3969980b",
   "metadata": {},
   "outputs": [],
   "source": [
    "from urbantree.deepforest.detection import infer_images\n",
    "\n",
    "infer_images(**setting)"
   ]
  },
  {
   "cell_type": "markdown",
   "id": "9f5e4502",
   "metadata": {},
   "source": [
    "- Render tree canopy raster images according to the resulting bounding boxes DataFrame saved in pickle objects."
   ]
  },
  {
   "cell_type": "code",
   "execution_count": null,
   "id": "73b64c77",
   "metadata": {},
   "outputs": [],
   "source": [
    "from urbantree.deepforest.detection import postprocess_render_images\n",
    "\n",
    "dataset_img_pattern=\"*.tiff\"\n",
    "#dataset_img_pattern = \"*6128569*\"\n",
    "#dataset_img_pattern = \"*1287912.570476842_*\"\n",
    "\n",
    "postprocess_render_images(**setting,\n",
    "                          dataset_img_pattern=dataset_img_pattern)"
   ]
  },
  {
   "cell_type": "markdown",
   "id": "5fb4f5ec",
   "metadata": {},
   "source": [
    "- calculate difference among two datasets"
   ]
  },
  {
   "cell_type": "code",
   "execution_count": 1,
   "id": "7423ed7a",
   "metadata": {},
   "outputs": [
    {
     "name": "stdout",
     "output_type": "stream",
     "text": [
      "DIFF_FROM_INFERENCE_PARAM {'confident_min_bbox_size': 64, 'confident_min_score': 0.6, 'morphology_factor': 1, 'concurrency': 4, 'patch': [{'patch_size': 1200, 'patch_overlap': 0.3, 'iou_threshold': 0.8, 'score_thresh': 0.9}, {'patch_size': 800, 'patch_overlap': 0.3, 'iou_threshold': 0.8, 'score_thresh': 0.48}, {'patch_size': 200, 'patch_overlap': 0.2, 'iou_threshold': 0.7, 'score_thresh': 0.455}, {'patch_size': 96, 'patch_overlap': 0.18, 'iou_threshold': 0.6, 'score_thresh': 0.525}]}\n",
      "DIFF_TO_INFERENCE_PARAM {'confident_min_bbox_size': 64, 'confident_min_score': 0.6, 'morphology_factor': 1, 'concurrency': 4, 'patch': [{'patch_size': 1200, 'patch_overlap': 0.3, 'iou_threshold': 0.8, 'score_thresh': 0.6}, {'patch_size': 800, 'patch_overlap': 0.3, 'iou_threshold': 0.8, 'score_thresh': 0.36}, {'patch_size': 200, 'patch_overlap': 0.2, 'iou_threshold': 0.7, 'score_thresh': 0.24}, {'patch_size': 96, 'patch_overlap': 0.18, 'iou_threshold': 0.6, 'score_thresh': 0.21}]}\n"
     ]
    }
   ],
   "source": [
    "from urbantree.deepforest.detection import calc_diff\n",
    "\n",
    "# tune inference parameter\n",
    "DIFF_FROM_INFERENCE_PARAM = {\n",
    "  'confident_min_bbox_size': 64, \n",
    "  'confident_min_score': 0.6, \n",
    "  'morphology_factor': 1, \n",
    "  'concurrency': 4, \n",
    "  'patch': [\n",
    "    {\n",
    "      'patch_size': 1200, \n",
    "      'patch_overlap': 0.3, \n",
    "      'iou_threshold': 0.8, \n",
    "      'score_thresh': 0.9\n",
    "    }, \n",
    "    {\n",
    "      'patch_size': 800, \n",
    "      'patch_overlap': 0.3, \n",
    "      'iou_threshold': 0.8, \n",
    "      'score_thresh': 0.48\n",
    "    }, \n",
    "    {\n",
    "      'patch_size': 200, \n",
    "      'patch_overlap': 0.2, \n",
    "      'iou_threshold': 0.7, \n",
    "      'score_thresh': 0.455\n",
    "    }, \n",
    "    {\n",
    "      'patch_size': 96, \n",
    "      'patch_overlap': 0.18, \n",
    "      'iou_threshold': 0.6, \n",
    "      'score_thresh': 0.525\n",
    "    }\n",
    "  ]\n",
    "}\n",
    "DIFF_TO_INFERENCE_PARAM = {\n",
    "  'confident_min_bbox_size': 64,\n",
    "  'confident_min_score': 0.6, \n",
    "  'morphology_factor': 1, \n",
    "  'concurrency': 4, \n",
    "  'patch': [\n",
    "    {\n",
    "      'patch_size': 1200, \n",
    "      'patch_overlap': 0.3, \n",
    "      'iou_threshold': 0.8, \n",
    "      'score_thresh': 0.6\n",
    "    }, \n",
    "    {\n",
    "      'patch_size': 800, \n",
    "      'patch_overlap': 0.3, \n",
    "      'iou_threshold': 0.8, \n",
    "      'score_thresh': 0.36\n",
    "    }, \n",
    "    {\n",
    "      'patch_size': 200, \n",
    "      'patch_overlap': 0.2, \n",
    "      'iou_threshold': 0.7, \n",
    "      'score_thresh': 0.24\n",
    "    }, \n",
    "    {\n",
    "      'patch_size': 96, \n",
    "      'patch_overlap': 0.18, \n",
    "      'iou_threshold': 0.6, \n",
    "      'score_thresh': 0.21\n",
    "    }\n",
    "  ]\n",
    "}\n",
    "\n",
    "calc_diff(diff_from_setting_path=\"settings/opendata_luftbild_dop60_1312/deepforest_r2/setting.yaml\",\n",
    "          diff_to_setting_path=\"settings/by_dop80c_1312/deepforest_r3/setting.yaml\",\n",
    "          diff_from_inference_param=DIFF_FROM_INFERENCE_PARAM,\n",
    "          diff_to_inference_param=DIFF_TO_INFERENCE_PARAM,\n",
    "          aggregate_iou_threshold=0.4,\n",
    "          diff_iou_threshold=0.1,\n",
    "          diff_cover_threshold=0.4,\n",
    "          output_bbox_dir='temp/diff4/b',\n",
    "          output_debug_img_dir='temp/diff4/debug',\n",
    "          concurrency=6) "
   ]
  },
  {
   "cell_type": "code",
   "execution_count": null,
   "id": "ca3da448",
   "metadata": {},
   "outputs": [],
   "source": [
    "from urbantree.deepforest.detection import create_bbox_geojson\n",
    "\n",
    "create_bbox_geojson(src_img_dir='aerial_images_resampled/opendata_luftbild_dop60_1312',\n",
    "                    src_bbox_dif='temp/diff4/b/diff',\n",
    "                    output_geojson_path='temp/diff4/diff.geojson',\n",
    "                    iou_threshold=0.3)\n",
    "create_bbox_geojson(src_img_dir='aerial_images_resampled/opendata_luftbild_dop60_1312',\n",
    "                    src_bbox_dif='temp/diff4/b/from',\n",
    "                    output_geojson_path='temp/diff4/from.geojson',\n",
    "                    iou_threshold=0.3)\n",
    "create_bbox_geojson(src_img_dir='aerial_images_resampled/by_dop80c_1312',\n",
    "                    src_bbox_dif='temp/diff4/b/to',\n",
    "                    output_geojson_path='temp/diff4/to.geojson',\n",
    "                    iou_threshold=0.3)\n"
   ]
  }
 ],
 "metadata": {
  "interpreter": {
   "hash": "d17c320a108ed353692a9d869777d22c4cfc8e217512b3979b490c9a0e17a049"
  },
  "kernelspec": {
   "display_name": "Python 3.9.6 64-bit",
   "name": "python3"
  },
  "language_info": {
   "codemirror_mode": {
    "name": "ipython",
    "version": 3
   },
   "file_extension": ".py",
   "mimetype": "text/x-python",
   "name": "python",
   "nbconvert_exporter": "python",
   "pygments_lexer": "ipython3",
   "version": "3.9.9"
  }
 },
 "nbformat": 4,
 "nbformat_minor": 5
}
