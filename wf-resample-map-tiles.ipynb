{
 "cells": [
  {
   "cell_type": "markdown",
   "id": "4c7068e8",
   "metadata": {},
   "source": [
    "### Resampling Map Tile Images"
   ]
  },
  {
   "cell_type": "markdown",
   "id": "556a6eb7",
   "metadata": {},
   "source": [
    "- Reconstruct map tile images with specific size and overlapping.\n",
    "- usual XYZ map tile data set as source (EPSG:3857)\n",
    "- GeoTiff output\n",
    "- A suumary of results is stored as CSV file with columns: ['img_filepath', 'nodata']"
   ]
  },
  {
   "cell_type": "code",
   "execution_count": 1,
   "id": "c832530d",
   "metadata": {},
   "outputs": [
    {
     "name": "stderr",
     "output_type": "stream",
     "text": [
      "/usr/local/Caskroom/miniconda/base/envs/detectree/lib/python3.9/site-packages/rasterio/__init__.py:220: NotGeoreferencedWarning: Dataset has no geotransform, gcps, or rpcs. The identity matrix be returned.\n",
      "  s = DatasetReader(path, driver=driver, sharing=sharing, **kwargs)\n"
     ]
    },
    {
     "name": "stdout",
     "output_type": "stream",
     "text": [
      "Processing XYZ map tiles from aerial_images/opendata_luftbild_dop60/*/*/*.png\n",
      "Resampled dataset will be saved in aerial_images_resampled/opendata_luftbild_dop60_1312\n"
     ]
    },
    {
     "name": "stderr",
     "output_type": "stream",
     "text": [
      "100%|██████████| 2408/2408 [02:22<00:00, 16.85it/s]"
     ]
    },
    {
     "name": "stdout",
     "output_type": "stream",
     "text": [
      "dataset summary: interim/opendata_luftbild_dop60_1312/deepforest_r1/meta/dataset.csv\n"
     ]
    },
    {
     "name": "stderr",
     "output_type": "stream",
     "text": [
      "\n"
     ]
    }
   ],
   "source": [
    "from urbantree.setting import Setting\n",
    "from urbantree.preprocessing import dataset_resample_xyz_tiles\n",
    "\n",
    "#SETTING = \"settings/by_dop80c_1312/deepforest_r1/setting.yaml\"\n",
    "SETTING = \"settings/opendata_luftbild_dop60_1312/deepforest_r1/setting.yaml\"\n",
    "\n",
    "setting = Setting.load_base_setting(SETTING)\n",
    "\n",
    "dataset_resample_xyz_tiles(**setting)"
   ]
  }
 ],
 "metadata": {
  "interpreter": {
   "hash": "d17c320a108ed353692a9d869777d22c4cfc8e217512b3979b490c9a0e17a049"
  },
  "kernelspec": {
   "display_name": "Python 3.9.6 64-bit",
   "name": "python3"
  },
  "language_info": {
   "codemirror_mode": {
    "name": "ipython",
    "version": 3
   },
   "file_extension": ".py",
   "mimetype": "text/x-python",
   "name": "python",
   "nbconvert_exporter": "python",
   "pygments_lexer": "ipython3",
   "version": "3.9.6"
  }
 },
 "nbformat": 4,
 "nbformat_minor": 5
}
